{
  "nbformat": 4,
  "nbformat_minor": 0,
  "metadata": {
    "colab": {
      "provenance": []
    },
    "kernelspec": {
      "name": "python3",
      "display_name": "Python 3"
    },
    "language_info": {
      "name": "python"
    }
  },
  "cells": [
    {
      "cell_type": "markdown",
      "source": [
        "1. CARA BISECTION"
      ],
      "metadata": {
        "id": "K0b6GNn2pleL"
      }
    },
    {
      "cell_type": "code",
      "execution_count": null,
      "metadata": {
        "id": "v3J0C9qX2e2T"
      },
      "outputs": [],
      "source": [
        "import numpy as np\n",
        "\n",
        "def my_bisection(f,a,b, tol):\n",
        "\n",
        "  if np.sign(f(a)) == np.sign(f(b)):\n",
        "    raise Exception (\n",
        "        \"The scalars a and b do not bound a root\")\n",
        "\n",
        "    # get midpoint\n",
        "  m=(a+b)/2\n",
        "\n",
        "  if np.abs(f(m)) < tol:\n",
        "      # stop kondisi, report m as root\n",
        "      return m\n",
        "  elif np.sign(f(a)) == np.sign(f(m)):\n",
        "      # case where m is an improvement on a.\n",
        "      # make recursive call with a = m\n",
        "      return my_bisection(f,m,b,tol)\n",
        "  elif np.sign(f(b)) == np.sign(f(m)):\n",
        "\n",
        "      return my_bisection(f,a, m, tol)\n"
      ]
    },
    {
      "cell_type": "code",
      "source": [
        "f = lambda x: x**2 +3*x - 4\n",
        "\n",
        "r1 = my_bisection(f, 0, 1, 0.1)\n",
        "print(\"r1 =\", r1)\n",
        "r01 = my_bisection(f, 0, 1, 0.01)\n",
        "print(\"r01 =\", r01)\n",
        "r02 = my_bisection(f, 0, 1, 0.001)\n",
        "print(\"r02 =\", r02)\n",
        "r03 = my_bisection(f, 0, 1, 0.0001)\n",
        "print(\"r03 =\", r03)\n",
        "r04 = my_bisection(f, 0, 1, 0.00001)\n",
        "print(\"r04 =\", r04)\n",
        "\n",
        "print(\"f(r1) =\", f(r1))\n",
        "print(\"f(r01) =\", f(r01))\n",
        "print(\"f(r02) =\", f(r02))\n",
        "print(\"f(r03) =\", f(r03))\n",
        "print(\"f(r04) =\", f(r04))\n",
        "\n",
        "\n",
        "# a = 0, b = 2\n",
        "# f(a) = -2 & f(b) = 2\n",
        "\n",
        "# semakin rendah toleransi(0.01) -> nilai semakin mendekati nol\n",
        "\n"
      ],
      "metadata": {
        "colab": {
          "base_uri": "https://localhost:8080/"
        },
        "id": "Oy55Xi7YB-u5",
        "outputId": "c08c9e7c-85c3-4e7a-bf3d-27eac80bbb06"
      },
      "execution_count": null,
      "outputs": [
        {
          "output_type": "stream",
          "name": "stdout",
          "text": [
            "r1 = 0.984375\n",
            "r01 = 0.998046875\n",
            "r02 = 0.9998779296875\n",
            "r03 = 0.9999847412109375\n",
            "r04 = 0.9999980926513672\n",
            "f(r1) = -0.077880859375\n",
            "f(r01) = -0.009761810302734375\n",
            "f(r02) = -0.0006103366613388062\n",
            "f(r03) = -7.629371248185635e-05\n",
            "f(r04) = -9.536739526083693e-06\n"
          ]
        }
      ]
    },
    {
      "cell_type": "markdown",
      "source": [
        "2. NEWTON RAPHSON METHOD\n",
        "\n",
        "https://pythonnumericalmethods.studentorg.berkeley.edu/notebooks/chapter19.04-Newton-Raphson-Method.html\n"
      ],
      "metadata": {
        "id": "BIdTw3TZDPH-"
      }
    },
    {
      "cell_type": "code",
      "source": [
        "import numpy as np\n",
        "x=0\n",
        "f = lambda x: x**2 + 3*x - 4\n",
        "f_prime = lambda x: 2*x - 3\n",
        "newton_raphson = 1 - (f(1))/(f_prime(1))\n",
        "\n",
        "print(\"newton_raphson=\", newton_raphson)\n",
        "print(\"sqrt(1)=\", np.sqrt(1))"
      ],
      "metadata": {
        "colab": {
          "base_uri": "https://localhost:8080/"
        },
        "id": "1IF2haGIK1oH",
        "outputId": "a9e74a2c-3b9c-4934-a28b-5ec7e1243740"
      },
      "execution_count": null,
      "outputs": [
        {
          "output_type": "stream",
          "name": "stdout",
          "text": [
            "newton_raphson= 1.0\n",
            "sqrt(1)= 1.0\n"
          ]
        }
      ]
    },
    {
      "cell_type": "code",
      "source": [
        "import numpy as np\n",
        "x=0\n",
        "f = lambda x: x**2 + 3*x - 4\n",
        "f_prime = lambda x: 2*x + 3\n",
        "newton_raphson = -4 - (f(-4))/(f_prime(-4))\n",
        "\n",
        "print(\"newton_raphson=\", newton_raphson)\n",
        "print(\"yang membuat persamaan bernilai 0 =\", -4.0)"
      ],
      "metadata": {
        "colab": {
          "base_uri": "https://localhost:8080/"
        },
        "id": "g3Tnx0aHzaKh",
        "outputId": "5c9dd0d9-72c6-487c-d9a7-6ded720c5d86"
      },
      "execution_count": null,
      "outputs": [
        {
          "output_type": "stream",
          "name": "stdout",
          "text": [
            "newton_raphson= -4.0\n",
            "yang membuat persamaan bernilai 0 = -4.0\n"
          ]
        }
      ]
    },
    {
      "cell_type": "markdown",
      "source": [
        "3. ESTIMATE"
      ],
      "metadata": {
        "id": "QvycHUdVsNCU"
      }
    },
    {
      "cell_type": "code",
      "source": [
        "def my_newton(f, df, x0, tol):\n",
        "  # output is an estimation of root of f\n",
        "  # using newton raphson\n",
        "  # recursive implementation\n",
        "  if abs(f(x0)) < tol:\n",
        "    return x0\n",
        "  else:\n",
        "    return my_newton(f, df, x0 - f(x0)/df(x0), tol)"
      ],
      "metadata": {
        "id": "kSFMxrPSDveV"
      },
      "execution_count": null,
      "outputs": []
    },
    {
      "cell_type": "code",
      "source": [
        "estimate = my_newton(f, f_prime, 0, 0.001)\n",
        "print(\"estimate =\", estimate)\n",
        "print(\"penyebab bernilai 0 = \", 1)"
      ],
      "metadata": {
        "colab": {
          "base_uri": "https://localhost:8080/"
        },
        "id": "mF316VGpED9j",
        "outputId": "85142119-d3fa-444f-d5c8-2a3e315751d6"
      },
      "execution_count": null,
      "outputs": [
        {
          "output_type": "stream",
          "name": "stdout",
          "text": [
            "estimate = 1.0000762951094835\n",
            "penyebab bernilai 0 =  1\n"
          ]
        }
      ]
    }
  ]
}