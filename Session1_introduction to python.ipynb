{
  "nbformat": 4,
  "nbformat_minor": 0,
  "metadata": {
    "colab": {
      "provenance": []
    },
    "kernelspec": {
      "name": "python3",
      "display_name": "Python 3"
    },
    "language_info": {
      "name": "python"
    }
  },
  "cells": [
    {
      "cell_type": "code",
      "execution_count": null,
      "metadata": {
        "colab": {
          "base_uri": "https://localhost:8080/"
        },
        "id": "JDjyjz4pAN_Y",
        "outputId": "45434a67-ade7-421c-8963-7814cca4908d"
      },
      "outputs": [
        {
          "output_type": "stream",
          "name": "stdout",
          "text": [
            "Thu Feb 15 06:53:55 2024\n"
          ]
        }
      ],
      "source": [
        "import time\n",
        "print(time.ctime())\n",
        "# time.ctime()"
      ]
    },
    {
      "cell_type": "code",
      "source": [
        "x=1\n",
        "y=x+2\n",
        "x=3\n",
        "y"
      ],
      "metadata": {
        "colab": {
          "base_uri": "https://localhost:8080/"
        },
        "id": "GlwbgiUzBmln",
        "outputId": "8628d30f-522c-498f-ab22-683417962cb8"
      },
      "execution_count": null,
      "outputs": [
        {
          "output_type": "execute_result",
          "data": {
            "text/plain": [
              "3"
            ]
          },
          "metadata": {},
          "execution_count": 1
        }
      ]
    },
    {
      "cell_type": "markdown",
      "source": [
        "1. strings --> text data\n",
        "2. integer --> int num\n",
        "3. float -->\n",
        "4. boolean -->\n",
        "5. complex -->"
      ],
      "metadata": {
        "id": "2D_Kgp0rCH-j"
      }
    },
    {
      "cell_type": "code",
      "source": [
        "# NUMPY = number phyton --> import library di phyton\n",
        "import numpy as np\n"
      ],
      "metadata": {
        "id": "DbGO3RcVCbEP"
      },
      "execution_count": null,
      "outputs": []
    },
    {
      "cell_type": "code",
      "source": [
        "x=np.array([1,4,3])\n",
        "x"
      ],
      "metadata": {
        "colab": {
          "base_uri": "https://localhost:8080/"
        },
        "id": "6HQ_E-m0LnY1",
        "outputId": "b36013af-096c-4e73-c21f-489612f02cc8"
      },
      "execution_count": null,
      "outputs": [
        {
          "output_type": "execute_result",
          "data": {
            "text/plain": [
              "array([1, 4, 3])"
            ]
          },
          "metadata": {},
          "execution_count": 4
        }
      ]
    },
    {
      "cell_type": "code",
      "source": [
        "[1,4,3]"
      ],
      "metadata": {
        "colab": {
          "base_uri": "https://localhost:8080/"
        },
        "id": "a8QfJP0wjAKO",
        "outputId": "4f0fd784-481d-44b9-a4a5-397fcca06d53"
      },
      "execution_count": null,
      "outputs": [
        {
          "output_type": "execute_result",
          "data": {
            "text/plain": [
              "[1, 4, 3]"
            ]
          },
          "metadata": {},
          "execution_count": 7
        }
      ]
    },
    {
      "cell_type": "code",
      "source": [
        "y=np.array([[1,4,3], [9,2,7]])\n",
        "y"
      ],
      "metadata": {
        "colab": {
          "base_uri": "https://localhost:8080/"
        },
        "id": "jJY65HqeL2FM",
        "outputId": "d854a583-2c4c-4e59-a050-04a773b17c59"
      },
      "execution_count": null,
      "outputs": [
        {
          "output_type": "execute_result",
          "data": {
            "text/plain": [
              "array([[1, 4, 3],\n",
              "       [9, 2, 7]])"
            ]
          },
          "metadata": {},
          "execution_count": 13
        }
      ]
    },
    {
      "cell_type": "code",
      "source": [
        "def sum(a,b,c):\n",
        "  # function sum 3 inputed num --> output: a+b+c\n",
        "\n",
        "  # out=a+b+c\n",
        "  return a+b+c"
      ],
      "metadata": {
        "id": "UoqVEYRmMEmU"
      },
      "execution_count": null,
      "outputs": []
    },
    {
      "cell_type": "code",
      "source": [
        "sum(1,2,3)"
      ],
      "metadata": {
        "colab": {
          "base_uri": "https://localhost:8080/"
        },
        "id": "C_Qfz0hPMqYj",
        "outputId": "b5e86645-a284-4e37-9d93-4c33e967a923"
      },
      "execution_count": null,
      "outputs": [
        {
          "output_type": "execute_result",
          "data": {
            "text/plain": [
              "6"
            ]
          },
          "metadata": {},
          "execution_count": 18
        }
      ]
    },
    {
      "cell_type": "code",
      "source": [
        "1+2+3"
      ],
      "metadata": {
        "colab": {
          "base_uri": "https://localhost:8080/"
        },
        "id": "BbOblZJ3jb4N",
        "outputId": "374fd6ed-8524-4db4-968d-3af54b7d429c"
      },
      "execution_count": null,
      "outputs": [
        {
          "output_type": "execute_result",
          "data": {
            "text/plain": [
              "6"
            ]
          },
          "metadata": {},
          "execution_count": 11
        }
      ]
    },
    {
      "cell_type": "code",
      "source": [
        "def add(a,b):\n",
        "  if(a>b):\n",
        "    print(\"a lebih besar dari b\")\n",
        "  elif(a<b):\n",
        "    print(\"a lebih kecil dari b\")\n",
        "  else:\n",
        "    print(\"a sama dengan b\")\n"
      ],
      "metadata": {
        "id": "X9t3JkxVkDw6"
      },
      "execution_count": null,
      "outputs": []
    },
    {
      "cell_type": "code",
      "source": [
        "add(3,4)\n",
        "add(0,0)\n",
        "add(-9,-9)"
      ],
      "metadata": {
        "colab": {
          "base_uri": "https://localhost:8080/"
        },
        "id": "_DgyiqlukrcX",
        "outputId": "2fc77af7-6286-4468-f262-6a0021bc1fc5"
      },
      "execution_count": null,
      "outputs": [
        {
          "output_type": "stream",
          "name": "stdout",
          "text": [
            "a lebih kecil dari b\n",
            "a sama dengan b\n",
            "a sama dengan b\n"
          ]
        }
      ]
    },
    {
      "cell_type": "code",
      "source": [
        "def my_therm(temp, desired_temp):\n",
        "  if temp < desired_temp-5:\n",
        "    status='Heat'\n",
        "  elif temp > desired_temp+5:\n",
        "    status='AC'\n",
        "  else:\n",
        "    status='off'\n",
        "  return status\n",
        "  # kalau tidak ada return maka hasil adalah none karena tidak ada nilai yang dikembalikan, kecuali menggunakkan print maka langsung dicetak"
      ],
      "metadata": {
        "id": "MnfW1si_M9-h"
      },
      "execution_count": null,
      "outputs": []
    },
    {
      "cell_type": "code",
      "source": [
        "status=my_therm(65,75)\n",
        "print(status)"
      ],
      "metadata": {
        "colab": {
          "base_uri": "https://localhost:8080/"
        },
        "id": "-l85mpsPNS9U",
        "outputId": "d4111d4b-7c50-47da-f466-33d5e70f3144"
      },
      "execution_count": null,
      "outputs": [
        {
          "output_type": "stream",
          "name": "stdout",
          "text": [
            "Heat\n"
          ]
        }
      ]
    },
    {
      "cell_type": "code",
      "source": [
        "x=1.5\n",
        "if x>1 and x<2:\n",
        "  y=2\n",
        "elif 2<x<4:\n",
        "  y=4\n",
        "else:\n",
        "  y=0\n",
        "print(y)"
      ],
      "metadata": {
        "colab": {
          "base_uri": "https://localhost:8080/"
        },
        "id": "D24fc9_hNbUb",
        "outputId": "047a02f1-418c-4ea3-ec62-41c2b6974821"
      },
      "execution_count": null,
      "outputs": [
        {
          "output_type": "stream",
          "name": "stdout",
          "text": [
            "2\n"
          ]
        }
      ]
    },
    {
      "cell_type": "code",
      "source": [
        "string = \"aabbcc\""
      ],
      "metadata": {
        "id": "lEmSjPP_mIVQ"
      },
      "execution_count": null,
      "outputs": []
    },
    {
      "cell_type": "code",
      "source": [
        "print(string)"
      ],
      "metadata": {
        "colab": {
          "base_uri": "https://localhost:8080/"
        },
        "id": "6v_3W9v0mPXb",
        "outputId": "82c5aaa1-0521-48f3-fbac-f1ebcc0bd887"
      },
      "execution_count": null,
      "outputs": [
        {
          "output_type": "stream",
          "name": "stdout",
          "text": [
            "aabbcc\n"
          ]
        }
      ]
    },
    {
      "cell_type": "code",
      "source": [
        "myBoolean=False"
      ],
      "metadata": {
        "id": "nNQdplcTmzDW"
      },
      "execution_count": null,
      "outputs": []
    },
    {
      "cell_type": "code",
      "source": [
        "myBoolean"
      ],
      "metadata": {
        "colab": {
          "base_uri": "https://localhost:8080/"
        },
        "id": "jfB613CLm7Hq",
        "outputId": "0fa4df70-6c0a-43c8-a31f-6ec3c26ae784"
      },
      "execution_count": null,
      "outputs": [
        {
          "output_type": "execute_result",
          "data": {
            "text/plain": [
              "False"
            ]
          },
          "metadata": {},
          "execution_count": 42
        }
      ]
    },
    {
      "cell_type": "code",
      "source": [
        "x=float(5)\n",
        "x"
      ],
      "metadata": {
        "colab": {
          "base_uri": "https://localhost:8080/"
        },
        "id": "Hb7dJyjHnCeK",
        "outputId": "5bfaded8-35c6-4d6b-fd40-e783dc9a2580"
      },
      "execution_count": null,
      "outputs": [
        {
          "output_type": "execute_result",
          "data": {
            "text/plain": [
              "5.0"
            ]
          },
          "metadata": {},
          "execution_count": 43
        }
      ]
    },
    {
      "cell_type": "code",
      "source": [
        "x=\"Hello, world\""
      ],
      "metadata": {
        "id": "JHsQeNrDnbUV"
      },
      "execution_count": null,
      "outputs": []
    },
    {
      "cell_type": "code",
      "source": [
        "print(x.upper())\n",
        "\n",
        "# cetak dari index 0 sampai ke 5\n",
        "print(x[:5])\n",
        "print(x[2:5])"
      ],
      "metadata": {
        "colab": {
          "base_uri": "https://localhost:8080/"
        },
        "id": "TMw_K9Y9nqmQ",
        "outputId": "e60915b5-44c1-4490-f0cf-1a68624ff8d9"
      },
      "execution_count": null,
      "outputs": [
        {
          "output_type": "stream",
          "name": "stdout",
          "text": [
            "HELLO, WORLD\n",
            "Hello\n",
            "llo\n"
          ]
        }
      ]
    },
    {
      "cell_type": "code",
      "source": [
        "x=\"Hello\"\n",
        "y=\" world\""
      ],
      "metadata": {
        "id": "rvFjoTexoEOq"
      },
      "execution_count": null,
      "outputs": []
    },
    {
      "cell_type": "code",
      "source": [
        "print(x+y)"
      ],
      "metadata": {
        "colab": {
          "base_uri": "https://localhost:8080/"
        },
        "id": "hUUFzgf9oKUy",
        "outputId": "e04c0937-6c10-46ca-a74d-a7cc9bbb1b40"
      },
      "execution_count": null,
      "outputs": [
        {
          "output_type": "stream",
          "name": "stdout",
          "text": [
            "Hello world\n"
          ]
        }
      ]
    },
    {
      "cell_type": "code",
      "source": [
        "x=np.array([[1,2,3], [4,5,6]])\n",
        "y=np.array([[1,1,1], [2,2,2]])"
      ],
      "metadata": {
        "id": "SMHAk7eDoWOq"
      },
      "execution_count": null,
      "outputs": []
    },
    {
      "cell_type": "code",
      "source": [
        "print(x+y)"
      ],
      "metadata": {
        "colab": {
          "base_uri": "https://localhost:8080/"
        },
        "id": "OULqV7jqpg69",
        "outputId": "b9ed0833-d2d4-42de-8d6e-40ee63b6cabb"
      },
      "execution_count": null,
      "outputs": [
        {
          "output_type": "stream",
          "name": "stdout",
          "text": [
            "[[2 3 4]\n",
            " [6 7 8]]\n"
          ]
        }
      ]
    },
    {
      "cell_type": "markdown",
      "source": [],
      "metadata": {
        "id": "nq7o3JL6CH4d"
      }
    },
    {
      "cell_type": "code",
      "source": [
        "a=np.array([[4,5], [6,7]])\n",
        "b=np.array([[8,9], [10,11]])"
      ],
      "metadata": {
        "id": "IL-x-6Kpps8O"
      },
      "execution_count": null,
      "outputs": []
    },
    {
      "cell_type": "code",
      "source": [
        "print(a@b)\n",
        "\n",
        "print(a*b)\n",
        "# @ untuk mengalikan array\n",
        "#  kalau * hanya untuk mengalikan baris biasa"
      ],
      "metadata": {
        "colab": {
          "base_uri": "https://localhost:8080/"
        },
        "id": "pxhaetRNp--V",
        "outputId": "5e4b1866-d3c9-4bef-84a3-d03934f4bca2"
      },
      "execution_count": null,
      "outputs": [
        {
          "output_type": "stream",
          "name": "stdout",
          "text": [
            "[[ 82  91]\n",
            " [118 131]]\n",
            "[[32 45]\n",
            " [60 77]]\n"
          ]
        }
      ]
    },
    {
      "cell_type": "code",
      "source": [
        "x=np.array([[2,3], [5,10], [11,17]])\n",
        "y=np.array([[10,12,11,14], [7,6,3,2]])"
      ],
      "metadata": {
        "id": "rlqZShDfsH1O"
      },
      "execution_count": null,
      "outputs": []
    },
    {
      "cell_type": "code",
      "source": [
        "x@y"
      ],
      "metadata": {
        "colab": {
          "base_uri": "https://localhost:8080/"
        },
        "id": "OZwdvcubsV7m",
        "outputId": "98815323-961b-400d-ed81-b38233a0152e"
      },
      "execution_count": null,
      "outputs": [
        {
          "output_type": "execute_result",
          "data": {
            "text/plain": [
              "array([[ 41,  42,  31,  34],\n",
              "       [120, 120,  85,  90],\n",
              "       [229, 234, 172, 188]])"
            ]
          },
          "metadata": {},
          "execution_count": 74
        }
      ]
    }
  ]
}