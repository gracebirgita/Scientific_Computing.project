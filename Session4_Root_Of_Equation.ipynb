{
  "nbformat": 4,
  "nbformat_minor": 0,
  "metadata": {
    "colab": {
      "provenance": []
    },
    "kernelspec": {
      "name": "python3",
      "display_name": "Python 3"
    },
    "language_info": {
      "name": "python"
    }
  },
  "cells": [
    {
      "cell_type": "markdown",
      "source": [
        "**BISECTION METHOD**\n",
        "\n",
        "https://pythonnumericalmethods.studentorg.berkeley.edu/notebooks/chapter19.03-Bisection-Method.html\n",
        "\n",
        "\n",
        "a < b\n",
        "sign !=\n",
        "\n",
        "misal f(x) = x^2 -2\n",
        "\n",
        "a= 2, b = 3\n",
        "\n",
        "2     7\n",
        "\n",
        "hasil f(2) = nilai a  (X)"
      ],
      "metadata": {
        "id": "NVkBO1A9DDMQ"
      }
    },
    {
      "cell_type": "code",
      "execution_count": 27,
      "metadata": {
        "id": "v3J0C9qX2e2T"
      },
      "outputs": [],
      "source": [
        "import numpy as np\n",
        "\n",
        "def my_bisection(f,a,b, tol):\n",
        "\n",
        "  if np.sign(f(a)) == np.sign(f(b)):\n",
        "    raise Exception (\n",
        "        \"The scalars a and b do not bound a root\")\n",
        "\n",
        "    # get midpoint\n",
        "  m=(a+b)/2\n",
        "\n",
        "  if np.abs(f(m)) < tol:\n",
        "      # stop kondisi, report m as root\n",
        "      return m\n",
        "  elif np.sign(f(a)) == np.sign(f(m)):\n",
        "      # case where m is an improvement on a.\n",
        "      # make recursive call with a = m\n",
        "      return my_bisection(f,m,b,tol)\n",
        "  elif np.sign(f(b)) == np.sign(f(m)):\n",
        "\n",
        "      return my_bisection(f,a, m, tol)\n"
      ]
    },
    {
      "cell_type": "code",
      "source": [
        "f = lambda x: x**2 +3*x-4\n",
        "\n",
        "\n",
        "r1 = my_bisection(f, 0, 1, 0.1)\n",
        "print(\"r1 =\", r1)\n",
        "r01 = my_bisection(f, 0, 1, 0.01)\n",
        "print(\"r01 =\", r01)\n",
        "r02 = my_bisection(f, 0, 1, 0.001)\n",
        "print(\"r02 =\", r02)\n",
        "\n",
        "\n",
        "print(\"f(r1) =\", f(r1))\n",
        "print(\"f(r01) =\", f(r01))\n",
        "print(\"f(r02) =\", f(r02))\n"
      ],
      "metadata": {
        "colab": {
          "base_uri": "https://localhost:8080/"
        },
        "id": "O3XGtjNAUFWb",
        "outputId": "bfd10d59-557e-4f7c-878a-f9d53d1506de"
      },
      "execution_count": 28,
      "outputs": [
        {
          "output_type": "stream",
          "name": "stdout",
          "text": [
            "r1 = 0.984375\n",
            "r01 = 0.998046875\n",
            "r02 = 0.9998779296875\n",
            "f(r1) = -0.077880859375\n",
            "f(r01) = -0.009761810302734375\n",
            "f(r02) = -0.0006103366613388062\n"
          ]
        }
      ]
    },
    {
      "cell_type": "code",
      "source": [
        "import matplotlib.pyplot as plt\n",
        "plt.style.use('seaborn-poster')\n",
        "%matplotlib inline"
      ],
      "metadata": {
        "colab": {
          "base_uri": "https://localhost:8080/"
        },
        "id": "IRBK4FNNExwi",
        "outputId": "d3f5c289-aa92-413b-8d39-2de5819c7309"
      },
      "execution_count": 29,
      "outputs": [
        {
          "output_type": "stream",
          "name": "stderr",
          "text": [
            "<ipython-input-29-097c7ae32f8c>:2: MatplotlibDeprecationWarning: The seaborn styles shipped by Matplotlib are deprecated since 3.6, as they no longer correspond to the styles shipped by seaborn. However, they will remain available as 'seaborn-v0_8-<style>'. Alternatively, directly use the seaborn API instead.\n",
            "  plt.style.use('seaborn-poster')\n"
          ]
        }
      ]
    },
    {
      "cell_type": "code",
      "source": [
        "f = lambda x: x**2 - 2\n",
        "\n",
        "r1 = my_bisection(f, 0, 2, 0.1)\n",
        "print(\"r1 =\", r1)\n",
        "r01 = my_bisection(f, 0, 2, 0.01)\n",
        "print(\"r01 =\", r01)\n",
        "r02 = my_bisection(f, 0, 2, 0.001)\n",
        "print(\"r02 =\", r02)\n",
        "\n",
        "print(\"f(r1) =\", f(r1))\n",
        "print(\"f(r01) =\", f(r01))\n",
        "print(\"f(r02) =\", f(r02))\n",
        "\n",
        "# a = 0, b = 2\n",
        "# f(a) = -2 & f(b) = 2\n",
        "\n",
        "# semakin rendah toleransi(0.01) -> nilai semakin mendekati nol\n",
        "\n"
      ],
      "metadata": {
        "colab": {
          "base_uri": "https://localhost:8080/"
        },
        "id": "Oy55Xi7YB-u5",
        "outputId": "9b102903-6d90-4233-dff2-4cb3beb17975"
      },
      "execution_count": 30,
      "outputs": [
        {
          "output_type": "stream",
          "name": "stdout",
          "text": [
            "r1 = 1.4375\n",
            "r01 = 1.4140625\n",
            "r02 = 1.4140625\n",
            "f(r1) = 0.06640625\n",
            "f(r01) = -0.00042724609375\n",
            "f(r02) = -0.00042724609375\n"
          ]
        }
      ]
    },
    {
      "cell_type": "code",
      "source": [
        "# my_bisection(f, 2, 4, 0.01)"
      ],
      "metadata": {
        "id": "yq4U_AUJCw3V"
      },
      "execution_count": 31,
      "outputs": []
    },
    {
      "cell_type": "markdown",
      "source": [
        "**NEWTON RAPHSON METHOD**\n",
        "\n",
        "https://pythonnumericalmethods.studentorg.berkeley.edu/notebooks/chapter19.04-Newton-Raphson-Method.html\n"
      ],
      "metadata": {
        "id": "BIdTw3TZDPH-"
      }
    },
    {
      "cell_type": "code",
      "source": [
        "import numpy as np\n",
        "\n",
        "f = lambda x: x**2 - 2\n",
        "f_prime = lambda x: 2*x\n",
        "newton_raphson = 1.4 - (f(1.4))/(f_prime(1.4))\n",
        "\n",
        "print(\"newton_raphson=\", newton_raphson)\n",
        "print(\"sqrt(2)=\", np.sqrt(2))"
      ],
      "metadata": {
        "colab": {
          "base_uri": "https://localhost:8080/"
        },
        "id": "6gbZll_gDRKe",
        "outputId": "c0c13254-854e-48e8-bd54-02218c441370"
      },
      "execution_count": 32,
      "outputs": [
        {
          "output_type": "stream",
          "name": "stdout",
          "text": [
            "newton_raphson= 1.4142857142857144\n",
            "sqrt(2)= 1.4142135623730951\n"
          ]
        }
      ]
    },
    {
      "cell_type": "code",
      "source": [
        "import numpy as np\n",
        "x=0\n",
        "f = lambda x: x**2 + 3*x - 4\n",
        "f_prime = lambda x: 2*x - 3\n",
        "newton_raphson = 1 - (f(1))/(f_prime(1))\n",
        "\n",
        "print(\"newton_raphson=\", newton_raphson)\n",
        "print(\"sqrt(1)=\", np.sqrt(1))"
      ],
      "metadata": {
        "colab": {
          "base_uri": "https://localhost:8080/"
        },
        "id": "1IF2haGIK1oH",
        "outputId": "21748394-cd73-4e91-c9cc-c42f6c44f5b6"
      },
      "execution_count": 33,
      "outputs": [
        {
          "output_type": "stream",
          "name": "stdout",
          "text": [
            "newton_raphson= 1.0\n",
            "sqrt(1)= 1.0\n"
          ]
        }
      ]
    },
    {
      "cell_type": "code",
      "source": [
        "import numpy as np\n",
        "x=0\n",
        "f = lambda x: x**2 + 3*x - 4\n",
        "f_prime = lambda x: 2*x - 3\n",
        "newton_raphson = -4 - (f(-4))/(f_prime(-4))\n",
        "\n",
        "print(\"newton_raphson=\", newton_raphson)\n",
        "print(\" =\", -4)"
      ],
      "metadata": {
        "colab": {
          "base_uri": "https://localhost:8080/"
        },
        "id": "JA3PGc2_TUl7",
        "outputId": "908f9ad2-c16e-45dc-fb62-dcbe3fa397bc"
      },
      "execution_count": 34,
      "outputs": [
        {
          "output_type": "stream",
          "name": "stdout",
          "text": [
            "newton_raphson= -4.0\n",
            " = -4\n"
          ]
        }
      ]
    },
    {
      "cell_type": "code",
      "source": [
        "import numpy as np\n",
        "\n",
        "f = lambda x: x**2 - 9\n",
        "f_prime = lambda x: 2*x\n",
        "newton_raphson = 1.7 - (f(1.7))/(f_prime(1.7))\n",
        "\n",
        "print(\"newton_raphson=\", newton_raphson)\n",
        "print(\"sqrt(3)=\", np.sqrt(3))"
      ],
      "metadata": {
        "colab": {
          "base_uri": "https://localhost:8080/"
        },
        "id": "7jJskIUPQBFC",
        "outputId": "ccb8f3ae-a6a8-450b-c1f8-0a8e87535afc"
      },
      "execution_count": 35,
      "outputs": [
        {
          "output_type": "stream",
          "name": "stdout",
          "text": [
            "newton_raphson= 3.4970588235294118\n",
            "sqrt(3)= 1.7320508075688772\n"
          ]
        }
      ]
    }
  ]
}